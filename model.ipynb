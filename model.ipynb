{
 "cells": [
  {
   "cell_type": "code",
   "execution_count": 3,
   "id": "d3f974fe",
   "metadata": {},
   "outputs": [],
   "source": [
    "import pandas as pd\n",
    "import numpy as np\n",
    "from sklearn.model_selection import train_test_split\n",
    "from sklearn.preprocessing import StandardScaler\n",
    "from sklearn.linear_model import LogisticRegression\n",
    "from sklearn.svm import SVC\n",
    "from sklearn.tree import DecisionTreeClassifier\n",
    "from sklearn.neighbors import KNeighborsClassifier\n",
    "from sklearn.ensemble import GradientBoostingClassifier\n",
    "from sklearn.discriminant_analysis import QuadraticDiscriminantAnalysis\n",
    "from sklearn.discriminant_analysis import LinearDiscriminantAnalysis\n",
    "from sklearn.neighbors import NearestCentroid\n",
    "from sklearn.metrics import accuracy_score, classification_report ,  confusion_matrix, roc_curve, auc\n",
    "from sklearn.preprocessing import LabelEncoder\n",
    "import matplotlib.pyplot as plt\n",
    "from tabulate import tabulate\n",
    "\n"
   ]
  },
  {
   "cell_type": "code",
   "execution_count": 4,
   "id": "7d3b2d02",
   "metadata": {},
   "outputs": [],
   "source": [
    "# Load the dataset\n",
    "data = pd.read_csv(\"cardio_dataset.csv\", delimiter=\",\")"
   ]
  },
  {
   "cell_type": "code",
   "execution_count": 5,
   "id": "181e3eca",
   "metadata": {},
   "outputs": [
    {
     "name": "stdout",
     "output_type": "stream",
     "text": [
      "Dataset Shape: (308854, 19)\n",
      "+-----------+-------------------------+-----+-----+----+----+----+-----+-----+--------+-------+-----+-------+-------+-----+---+----+----+----+\n",
      "| Poor      | Within the past 2 years | No  | No  | No | No | No | No  | Yes | Female | 70-74 | 150 | 32.66 | 14.54 | Yes | 0 | 30 | 16 | 12 |\n",
      "+-----------+-------------------------+-----+-----+----+----+----+-----+-----+--------+-------+-----+-------+-------+-----+---+----+----+----+\n",
      "| Very Good | Within the past year    | No  | Yes | No | No | No | Yes | No  | Female | 70-74 | 165 | 77.11 | 28.29 | No  | 0 | 30 |  0 |  4 |\n",
      "+-----------+-------------------------+-----+-----+----+----+----+-----+-----+--------+-------+-----+-------+-------+-----+---+----+----+----+\n",
      "| Very Good | Within the past year    | Yes | No  | No | No | No | Yes | No  | Female | 60-64 | 163 | 88.45 | 33.47 | No  | 4 | 12 |  3 | 16 |\n",
      "+-----------+-------------------------+-----+-----+----+----+----+-----+-----+--------+-------+-----+-------+-------+-----+---+----+----+----+\n",
      "| Poor      | Within the past year    | Yes | Yes | No | No | No | Yes | No  | Male   | 75-79 | 180 | 93.44 | 28.73 | No  | 0 | 30 | 30 |  8 |\n",
      "+-----------+-------------------------+-----+-----+----+----+----+-----+-----+--------+-------+-----+-------+-------+-----+---+----+----+----+\n",
      "| Good      | Within the past year    | No  | No  | No | No | No | No  | No  | Male   | 80+   | 191 | 88.45 | 24.37 | Yes | 0 |  8 |  4 |  0 |\n",
      "+-----------+-------------------------+-----+-----+----+----+----+-----+-----+--------+-------+-----+-------+-------+-----+---+----+----+----+\n"
     ]
    }
   ],
   "source": [
    "# Display the shape of the dataset (number of rows and columns)\n",
    "print(\"Dataset Shape:\", data.shape)\n",
    "\n",
    "# Convert the first few rows of the DataFrame to a list of dictionaries for tabulate\n",
    "table_data = data.head().to_dict(orient='records')\n",
    "\n",
    "# Print the data in a nicely formatted table without headers\n",
    "table = tabulate(table_data, tablefmt='grid')\n",
    "print(table)"
   ]
  },
  {
   "cell_type": "code",
   "execution_count": 4,
   "id": "d015bfd2",
   "metadata": {},
   "outputs": [
    {
     "name": "stdout",
     "output_type": "stream",
     "text": [
      "<class 'pandas.core.frame.DataFrame'>\n",
      "RangeIndex: 308854 entries, 0 to 308853\n",
      "Data columns (total 19 columns):\n",
      " #   Column                        Non-Null Count   Dtype  \n",
      "---  ------                        --------------   -----  \n",
      " 0   General_Health                308854 non-null  object \n",
      " 1   Checkup                       308854 non-null  object \n",
      " 2   Exercise                      308854 non-null  object \n",
      " 3   Heart_Disease                 308854 non-null  object \n",
      " 4   Skin_Cancer                   308854 non-null  object \n",
      " 5   Other_Cancer                  308854 non-null  object \n",
      " 6   Depression                    308854 non-null  object \n",
      " 7   Diabetes                      308854 non-null  object \n",
      " 8   Arthritis                     308854 non-null  object \n",
      " 9   Sex                           308854 non-null  object \n",
      " 10  Age_Category                  308854 non-null  object \n",
      " 11  Height_(cm)                   308854 non-null  float64\n",
      " 12  Weight_(kg)                   308854 non-null  float64\n",
      " 13  BMI                           308854 non-null  float64\n",
      " 14  Smoking_History               308854 non-null  object \n",
      " 15  Alcohol_Consumption           308854 non-null  float64\n",
      " 16  Fruit_Consumption             308854 non-null  float64\n",
      " 17  Green_Vegetables_Consumption  308854 non-null  float64\n",
      " 18  FriedPotato_Consumption       308854 non-null  float64\n",
      "dtypes: float64(7), object(12)\n",
      "memory usage: 44.8+ MB\n"
     ]
    }
   ],
   "source": [
    "data.info()"
   ]
  },
  {
   "cell_type": "code",
   "execution_count": 12,
   "id": "8d974c92",
   "metadata": {},
   "outputs": [],
   "source": [
    "# Separate features and target variable\n",
    "X = data.drop(columns=['Heart_Disease'])\n",
    "y = data['Heart_Disease']\n"
   ]
  },
  {
   "cell_type": "code",
   "execution_count": 13,
   "id": "64395ab4",
   "metadata": {},
   "outputs": [],
   "source": [
    "# Apply label encoding to 'General_Health'\n",
    "label_encoder = LabelEncoder()\n",
    "X['General_Health'] = label_encoder.fit_transform(X['General_Health'])\n"
   ]
  },
  {
   "cell_type": "code",
   "execution_count": 14,
   "id": "687df774",
   "metadata": {},
   "outputs": [
    {
     "name": "stdout",
     "output_type": "stream",
     "text": [
      "Unique Checkup Values:\n",
      "['70-74' '60-64' '75-79' '80+' '65-69' '50-54' '45-49' '18-24' '30-34'\n",
      " '55-59' '35-39' '40-44' '25-29']\n"
     ]
    }
   ],
   "source": [
    "# Print unique values in the 'Checkup' column\n",
    "checkup_values = data['Age_Category'].unique()\n",
    "print(\"Unique Checkup Values:\")\n",
    "print(checkup_values)"
   ]
  },
  {
   "cell_type": "code",
   "execution_count": 16,
   "id": "bb148f95",
   "metadata": {},
   "outputs": [
    {
     "name": "stdout",
     "output_type": "stream",
     "text": [
      "   General_Health  Checkup  Exercise  Skin_Cancer  Other_Cancer  Depression  \\\n",
      "0               3        2         0            0             0           0   \n",
      "1               4        4         0            0             0           0   \n",
      "2               4        4         1            0             0           0   \n",
      "3               3        4         1            0             0           0   \n",
      "4               2        4         0            0             0           0   \n",
      "\n",
      "   Diabetes  Arthritis  Sex  Age_Category  Height_(cm)  Weight_(kg)   BMI  \\\n",
      "0         0          1    0            10           36            9    77   \n",
      "1         2          0    0            10           51          145  1226   \n",
      "2         2          0    0             8           49          180  1682   \n",
      "3         2          0    1            11           66          195  1267   \n",
      "4         0          0    1            12           77          180   868   \n",
      "\n",
      "   Smoking_History  Alcohol_Consumption  Fruit_Consumption  \\\n",
      "0                1                    0                 30   \n",
      "1                0                    0                 30   \n",
      "2                0                    4                 12   \n",
      "3                0                    0                 30   \n",
      "4                1                    0                  8   \n",
      "\n",
      "   Green_Vegetables_Consumption  FriedPotato_Consumption  \n",
      "0                            16                       12  \n",
      "1                             0                        4  \n",
      "2                             3                       16  \n",
      "3                            30                        8  \n",
      "4                             4                        0  \n"
     ]
    }
   ],
   "source": [
    "# Apply label encoding to categorical features\n",
    "label_encoder = LabelEncoder()\n",
    "for feature in X.columns:\n",
    "        X[feature] = label_encoder.fit_transform(X[feature])\n",
    "print(X.head())"
   ]
  },
  {
   "cell_type": "code",
   "execution_count": 17,
   "id": "4a92b297",
   "metadata": {},
   "outputs": [],
   "source": [
    "# Split the dataset into training and testing sets\n",
    "X_train, X_test, y_train, y_test = train_test_split(X, y, test_size=0.2, random_state=42)"
   ]
  },
  {
   "cell_type": "code",
   "execution_count": 18,
   "id": "da7e1aa1",
   "metadata": {},
   "outputs": [],
   "source": [
    "# Standardize features\n",
    "scaler = StandardScaler()\n",
    "X_train = scaler.fit_transform(X_train)\n",
    "X_test = scaler.transform(X_test)"
   ]
  },
  {
   "cell_type": "code",
   "execution_count": 19,
   "id": "6f43ef8b",
   "metadata": {},
   "outputs": [],
   "source": [
    "\n",
    "# Initialize models\n",
    "modelLogReg = LogisticRegression(max_iter=1000)\n",
    "modelDecisionTree = DecisionTreeClassifier()\n",
    "modelSVC = SVC()\n",
    "modelKNN = KNeighborsClassifier(n_neighbors=2)\n",
    "modelGradientBoosting = GradientBoostingClassifier(n_estimators=100)\n",
    "modelLDA = LinearDiscriminantAnalysis()\n",
    "modelQDA = QuadraticDiscriminantAnalysis()\n",
    "\n"
   ]
  },
  {
   "cell_type": "code",
   "execution_count": 20,
   "id": "e67558e9",
   "metadata": {},
   "outputs": [
    {
     "data": {
      "text/html": [
       "<style>#sk-container-id-1 {color: black;background-color: white;}#sk-container-id-1 pre{padding: 0;}#sk-container-id-1 div.sk-toggleable {background-color: white;}#sk-container-id-1 label.sk-toggleable__label {cursor: pointer;display: block;width: 100%;margin-bottom: 0;padding: 0.3em;box-sizing: border-box;text-align: center;}#sk-container-id-1 label.sk-toggleable__label-arrow:before {content: \"▸\";float: left;margin-right: 0.25em;color: #696969;}#sk-container-id-1 label.sk-toggleable__label-arrow:hover:before {color: black;}#sk-container-id-1 div.sk-estimator:hover label.sk-toggleable__label-arrow:before {color: black;}#sk-container-id-1 div.sk-toggleable__content {max-height: 0;max-width: 0;overflow: hidden;text-align: left;background-color: #f0f8ff;}#sk-container-id-1 div.sk-toggleable__content pre {margin: 0.2em;color: black;border-radius: 0.25em;background-color: #f0f8ff;}#sk-container-id-1 input.sk-toggleable__control:checked~div.sk-toggleable__content {max-height: 200px;max-width: 100%;overflow: auto;}#sk-container-id-1 input.sk-toggleable__control:checked~label.sk-toggleable__label-arrow:before {content: \"▾\";}#sk-container-id-1 div.sk-estimator input.sk-toggleable__control:checked~label.sk-toggleable__label {background-color: #d4ebff;}#sk-container-id-1 div.sk-label input.sk-toggleable__control:checked~label.sk-toggleable__label {background-color: #d4ebff;}#sk-container-id-1 input.sk-hidden--visually {border: 0;clip: rect(1px 1px 1px 1px);clip: rect(1px, 1px, 1px, 1px);height: 1px;margin: -1px;overflow: hidden;padding: 0;position: absolute;width: 1px;}#sk-container-id-1 div.sk-estimator {font-family: monospace;background-color: #f0f8ff;border: 1px dotted black;border-radius: 0.25em;box-sizing: border-box;margin-bottom: 0.5em;}#sk-container-id-1 div.sk-estimator:hover {background-color: #d4ebff;}#sk-container-id-1 div.sk-parallel-item::after {content: \"\";width: 100%;border-bottom: 1px solid gray;flex-grow: 1;}#sk-container-id-1 div.sk-label:hover label.sk-toggleable__label {background-color: #d4ebff;}#sk-container-id-1 div.sk-serial::before {content: \"\";position: absolute;border-left: 1px solid gray;box-sizing: border-box;top: 0;bottom: 0;left: 50%;z-index: 0;}#sk-container-id-1 div.sk-serial {display: flex;flex-direction: column;align-items: center;background-color: white;padding-right: 0.2em;padding-left: 0.2em;position: relative;}#sk-container-id-1 div.sk-item {position: relative;z-index: 1;}#sk-container-id-1 div.sk-parallel {display: flex;align-items: stretch;justify-content: center;background-color: white;position: relative;}#sk-container-id-1 div.sk-item::before, #sk-container-id-1 div.sk-parallel-item::before {content: \"\";position: absolute;border-left: 1px solid gray;box-sizing: border-box;top: 0;bottom: 0;left: 50%;z-index: -1;}#sk-container-id-1 div.sk-parallel-item {display: flex;flex-direction: column;z-index: 1;position: relative;background-color: white;}#sk-container-id-1 div.sk-parallel-item:first-child::after {align-self: flex-end;width: 50%;}#sk-container-id-1 div.sk-parallel-item:last-child::after {align-self: flex-start;width: 50%;}#sk-container-id-1 div.sk-parallel-item:only-child::after {width: 0;}#sk-container-id-1 div.sk-dashed-wrapped {border: 1px dashed gray;margin: 0 0.4em 0.5em 0.4em;box-sizing: border-box;padding-bottom: 0.4em;background-color: white;}#sk-container-id-1 div.sk-label label {font-family: monospace;font-weight: bold;display: inline-block;line-height: 1.2em;}#sk-container-id-1 div.sk-label-container {text-align: center;}#sk-container-id-1 div.sk-container {/* jupyter's `normalize.less` sets `[hidden] { display: none; }` but bootstrap.min.css set `[hidden] { display: none !important; }` so we also need the `!important` here to be able to override the default hidden behavior on the sphinx rendered scikit-learn.org. See: https://github.com/scikit-learn/scikit-learn/issues/21755 */display: inline-block !important;position: relative;}#sk-container-id-1 div.sk-text-repr-fallback {display: none;}</style><div id=\"sk-container-id-1\" class=\"sk-top-container\"><div class=\"sk-text-repr-fallback\"><pre>LogisticRegression(max_iter=1000)</pre><b>In a Jupyter environment, please rerun this cell to show the HTML representation or trust the notebook. <br />On GitHub, the HTML representation is unable to render, please try loading this page with nbviewer.org.</b></div><div class=\"sk-container\" hidden><div class=\"sk-item\"><div class=\"sk-estimator sk-toggleable\"><input class=\"sk-toggleable__control sk-hidden--visually\" id=\"sk-estimator-id-1\" type=\"checkbox\" checked><label for=\"sk-estimator-id-1\" class=\"sk-toggleable__label sk-toggleable__label-arrow\">LogisticRegression</label><div class=\"sk-toggleable__content\"><pre>LogisticRegression(max_iter=1000)</pre></div></div></div></div></div>"
      ],
      "text/plain": [
       "LogisticRegression(max_iter=1000)"
      ]
     },
     "execution_count": 20,
     "metadata": {},
     "output_type": "execute_result"
    }
   ],
   "source": [
    "# Train models\n",
    "modelLogReg.fit(X_train, y_train)\n",
    "#modelDecisionTree.fit(X_train, y_train)\n",
    "#modelSVC.fit(X_train, y_train)\n",
    "#modelKNN.fit(X_train, y_train)\n",
    "#modelGradientBoosting.fit(X_train, y_train)\n",
    "#modelLDA.fit(X_train, y_train)\n",
    "#modelQDA.fit(X_train, y_train)\n",
    "\n"
   ]
  },
  {
   "cell_type": "code",
   "execution_count": 21,
   "id": "19bbf33e",
   "metadata": {},
   "outputs": [],
   "source": [
    " #Predictions\n",
    "predLogReg = modelLogReg.predict(X_test)\n",
    "#predDecisionTree = modelDecisionTree.predict(X_test)\n",
    "#predSVC = modelSVC.predict(X_test)\n",
    "#predKNN = modelKNN.predict(X_test)\n",
    "#predGradientBoosting = modelGradientBoosting.predict(X_test)\n",
    "#predLDA = modelLDA.predict(X_test)\n",
    "#predQDA = modelQDA.predict(X_test)\n"
   ]
  },
  {
   "cell_type": "code",
   "execution_count": 24,
   "id": "d242d8f9",
   "metadata": {},
   "outputs": [],
   "source": [
    "\n",
    "# Create an array to hold all predictions\n",
    "# all_predictions = np.array([predLogReg, predDecisionTree, predSVC, predKNN, predGradientBoosting, predLDA, predQDA])\n",
    "all_predictions = np.array([predLogReg])\n"
   ]
  },
  {
   "cell_type": "code",
   "execution_count": 25,
   "id": "c02a4251",
   "metadata": {},
   "outputs": [
    {
     "name": "stdout",
     "output_type": "stream",
     "text": [
      "Model 1 Accuracy: 0.92\n"
     ]
    }
   ],
   "source": [
    "# Compare predictions using accuracy\n",
    "for idx, predictions in enumerate(all_predictions):\n",
    "    accuracy = accuracy_score(y_test, predictions)\n",
    "    print(f\"Model {idx+1} Accuracy: {accuracy:.2f}\")"
   ]
  },
  {
   "cell_type": "code",
   "execution_count": 17,
   "id": "d924f8bd",
   "metadata": {},
   "outputs": [
    {
     "data": {
      "image/png": "[encoded data removed]",
      "text/plain": [
       "<Figure size 800x600 with 2 Axes>"
      ]
     },
     "metadata": {},
     "output_type": "display_data"
    }
   ],
   "source": [
    "# Create a confusion matrix\n",
    "cm = confusion_matrix(y_test, y_pred)\n",
    "\n",
    "# Plot confusion matrix\n",
    "plt.figure(figsize=(8, 6))\n",
    "plt.imshow(cm, interpolation='nearest', cmap=plt.cm.Blues)\n",
    "plt.title(\"Confusion Matrix\")\n",
    "plt.colorbar()\n",
    "classes = ['No Heart Disease', 'Heart Disease']\n",
    "tick_marks = [0, 1]\n",
    "plt.xticks(tick_marks, classes)\n",
    "plt.yticks(tick_marks, classes)\n",
    "plt.ylabel('True label')\n",
    "plt.xlabel('Predicted label')\n",
    "plt.show()\n",
    "\n"
   ]
  },
  {
   "cell_type": "code",
   "execution_count": null,
   "id": "6f887650",
   "metadata": {},
   "outputs": [],
   "source": [
    "\n",
    "\n",
    "\n"
   ]
  },
  {
   "cell_type": "code",
   "execution_count": null,
   "id": "6b80f2d9",
   "metadata": {},
   "outputs": [],
   "source": []
  }
 ],
 "metadata": {
  "kernelspec": {
   "display_name": "Python 3 (ipykernel)",
   "language": "python",
   "name": "python3"
  },
  "language_info": {
   "codemirror_mode": {
    "name": "ipython",
    "version": 3
   },
   "file_extension": ".py",
   "mimetype": "text/x-python",
   "name": "python",
   "nbconvert_exporter": "python",
   "pygments_lexer": "ipython3",
   "version": "3.10.9"
  }
 },
 "nbformat": 4,
 "nbformat_minor": 5
}
